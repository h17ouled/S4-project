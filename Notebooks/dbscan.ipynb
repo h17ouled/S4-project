{
 "cells": [
  {
   "cell_type": "code",
   "execution_count": 94,
   "metadata": {},
   "outputs": [
    {
     "name": "stdout",
     "output_type": "stream",
     "text": [
      "Using matplotlib backend: TkAgg\n"
     ]
    }
   ],
   "source": [
    "%matplotlib\n",
    "import numpy as np\n",
    "import pickle\n",
    "import matplotlib.pyplot as plt\n",
    "from sklearn.cluster import DBSCAN\n",
    "from sklearn import metrics\n",
    "from sklearn.datasets.samples_generator import make_blobs\n",
    "from sklearn.preprocessing import StandardScaler\n",
    "# Get the embeddings\n",
    "embeddings = pickle.load(open(\"Embeddings.pkl\", 'rb'))\n",
    "# Load the preselected names to have a high enough number of pictures\n",
    "preselection_file = \"test-set.csv\"\n",
    "preselected_names = []\n",
    "with open(preselection_file) as fp:\n",
    "    issues = []\n",
    "    lines = fp.readlines()\n",
    "    for line in lines :\n",
    "        name = line.split(\",\")[0].strip()\n",
    "        preselected_names.append(name)        "
   ]
  },
  {
   "cell_type": "code",
   "execution_count": 104,
   "metadata": {},
   "outputs": [
    {
     "name": "stdout",
     "output_type": "stream",
     "text": [
      "la photo numero 9 de william  genere un encodage vide\n",
      "la photo numero 13 de eric musselman  genere un encodage vide\n",
      "la photo numero 2 de lindsey horan  genere un encodage vide\n",
      "la photo numero 0 de luis ortega  genere un encodage vide\n",
      "Error with thorbj+//0Aw//9ALg-rn jagland\n",
      "la photo numero 0 de tibor gaspar  genere un encodage vide\n",
      "Error with victor estrella\n",
      "la photo numero 13 de andre silva  genere un encodage vide\n",
      "la photo numero 0 de chez reavie  genere un encodage vide\n",
      "la photo numero 4 de chez reavie  genere un encodage vide\n",
      "la photo numero 7 de chez reavie  genere un encodage vide\n",
      "la photo numero 21 de chez reavie  genere un encodage vide\n",
      "la photo numero 23 de chez reavie  genere un encodage vide\n",
      "la photo numero 29 de chez reavie  genere un encodage vide\n",
      "Error with victoria tauli+AC0-corpuz\n",
      "la photo numero 7 de james johnson  genere un encodage vide\n",
      "Error with mike lorenzo+AC0-vera\n",
      "la photo numero 50 de jamal murray  genere un encodage vide\n",
      "la photo numero 63 de jamal murray  genere un encodage vide\n",
      "la photo numero 4 de jason momoa  genere un encodage vide\n",
      "Error with gwei lun+AC0-mei\n"
     ]
    }
   ],
   "source": [
    "def generate_clusters(name) :\n",
    "    try :\n",
    "        num_pictures=len(embeddings[name].keys())\n",
    "    except KeyError :\n",
    "        print(\"Error with {}\".format(name))\n",
    "        return\n",
    "    \n",
    "    X=np.zeros((num_pictures,128))\n",
    "    for i in range(num_pictures):\n",
    "        if embeddings[name][i]!=[]:\n",
    "            X[i]=embeddings[name][i][0]\n",
    "        else:\n",
    "            print(\"la photo numero \"+str(i)+\" de \"+name+\"  genere un encodage vide\")\n",
    "            X[i]=np.zeros((128))\n",
    "    # Compute DBSCAN\n",
    "    db = DBSCAN(eps=0.5, min_samples=3).fit(X)\n",
    "    core_samples_mask = np.zeros_like(db.labels_, dtype=bool)\n",
    "    core_samples_mask[db.core_sample_indices_] = True\n",
    "    labels = db.labels_\n",
    "\n",
    "    # Number of clusters in labels, ignoring noise if present.\n",
    "    n_clusters_ = len(set(labels)) - (1 if -1 in labels else 0)\n",
    "    n_noise_ = list(labels).count(-1)\n",
    "\n",
    "#    print('Estimated number of clusters: %d' % n_clusters_)\n",
    "#   print('Estimated number of noise points: %d' % n_noise_)\n",
    "    # Black removed and is used for noise instead.\n",
    "    unique_labels = set(labels)\n",
    "    colors = [plt.cm.Spectral(each)\n",
    "              for each in np.linspace(0, 1, len(unique_labels))]\n",
    "    for k, col in zip(unique_labels, colors):\n",
    "        if k == -1:\n",
    "            # Black used for noise.\n",
    "            col = [0, 0, 0, 1]\n",
    "        class_member_mask = (labels == k)\n",
    "        xy = X[class_member_mask & core_samples_mask]\n",
    "        plt.plot(xy[:, 0], xy[:, 1], 'o', markerfacecolor=tuple(col),\n",
    "                 markeredgecolor='k', markersize=14)\n",
    "        xy = X[class_member_mask & ~core_samples_mask]\n",
    "        plt.plot(xy[:, 0], xy[:, 1], 'o', markerfacecolor=tuple(col),\n",
    "                 markeredgecolor='k', markersize=6)\n",
    "    plt.title(\"{} : {} clusters, {} noise points\".format(name, n_clusters_, n_noise_))\n",
    "    plt.savefig(\"clusters_dbscan/\"+name)\n",
    "    plt.clf()\n",
    "    \n",
    "for name in preselected_names :\n",
    "    generate_clusters(name)\n"
   ]
  },
  {
   "cell_type": "code",
   "execution_count": null,
   "metadata": {},
   "outputs": [],
   "source": []
  },
  {
   "cell_type": "code",
   "execution_count": null,
   "metadata": {},
   "outputs": [],
   "source": []
  },
  {
   "cell_type": "code",
   "execution_count": null,
   "metadata": {},
   "outputs": [],
   "source": []
  }
 ],
 "metadata": {
  "kernelspec": {
   "display_name": "Python 3",
   "language": "python",
   "name": "python3"
  },
  "language_info": {
   "codemirror_mode": {
    "name": "ipython",
    "version": 3
   },
   "file_extension": ".py",
   "mimetype": "text/x-python",
   "name": "python",
   "nbconvert_exporter": "python",
   "pygments_lexer": "ipython3",
   "version": "3.6.7"
  }
 },
 "nbformat": 4,
 "nbformat_minor": 2
}
